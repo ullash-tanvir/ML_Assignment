{
 "cells": [
  {
   "cell_type": "code",
   "execution_count": 1,
   "metadata": {},
   "outputs": [],
   "source": [
    "import statistics"
   ]
  },
  {
   "cell_type": "markdown",
   "metadata": {},
   "source": [
    "# Problem 1\n",
    "\n",
    "The marks awarded for an assignment set for a Year 8 class of 20 students were as\n",
    "follows:\n",
    "6 7 5 7 7 8 7 6 9 7 4 10 6 8 8 9 5 6 4 8\n"
   ]
  },
  {
   "cell_type": "code",
   "execution_count": 3,
   "metadata": {},
   "outputs": [
    {
     "name": "stdout",
     "output_type": "stream",
     "text": [
      "Mean: 6.85\n",
      "Median: 7.0\n",
      "Mode:7\n"
     ]
    }
   ],
   "source": [
    "data=[6, 7, 5, 7, 7, 8, 7, 6, 9, 7, 4 ,10, 6, 8, 8, 9 ,5,6,4,8]\n",
    "mean = statistics.mean(data)\n",
    "median= statistics.median(data)\n",
    "mode= statistics.mode(data)\n",
    "\n",
    "print(f\"Mean: {mean}\\nMedian: {median}\\nMode:{mode}\")"
   ]
  },
  {
   "cell_type": "markdown",
   "metadata": {},
   "source": [
    "# Problem 2\n",
    "\n",
    "The number of calls from motorists per day for roadside service was recorded for a\n",
    "particular month:\n",
    "28, 122, 217, 130, 120, 86, 80, 90, 140, 120, 70, 40, 145, 113, 90, 68, 174, 194, 170,\n",
    "100, 75, 104, 97, 75,\n",
    "123, 100, 75, 104, 97, 75, 123, 100, 89, 120, 109"
   ]
  },
  {
   "cell_type": "code",
   "execution_count": 4,
   "metadata": {},
   "outputs": [
    {
     "name": "stdout",
     "output_type": "stream",
     "text": [
      "Mean: 107.51428571428572\n",
      "Median: 100\n",
      "Mode:75\n"
     ]
    }
   ],
   "source": [
    "data=[28, 122, 217, 130, 120, 86, 80, 90, 140, 120, 70, 40, 145, 113, 90, 68, 174, 194, 170, 100, 75, 104, 97, 75, 123, 100, 75, 104, 97, 75, 123, 100, 89, 120, 109]\n",
    "mean = statistics.mean(data)\n",
    "median= statistics.median(data)\n",
    "mode= statistics.mode(data)\n",
    "print(f\"Mean: {mean}\\nMedian: {median}\\nMode:{mode}\")"
   ]
  },
  {
   "cell_type": "markdown",
   "metadata": {},
   "source": [
    "# Problem 3\n",
    "\n",
    "Problem Statement 3:\n",
    "The number of times I go to the gym in weekdays, are given below along with its\n",
    "associated probability:\n",
    "x = 0, 1, 2, 3, 4, 5\n",
    "f(x) = 0.09, 0.15, 0.40, 0.25, 0.10, 0.01\n",
    "Calculate the mean no. of workouts in a week. Also evaluate the variance involved in\n",
    "it."
   ]
  },
  {
   "cell_type": "code",
   "execution_count": 24,
   "metadata": {},
   "outputs": [
    {
     "name": "stdout",
     "output_type": "stream",
     "text": [
      "Mean: 0.35833333333333334\n",
      "Variance: 6.503402777777777\n"
     ]
    }
   ],
   "source": [
    "x = [0, 1, 2, 3, 4, 5]\n",
    "y= [0.09, 0.15, 0.40, 0.25, 0.10, 0.01]\n",
    "z=[]\n",
    "for i,j in zip(x,y):\n",
    "    z.append(i*j)\n",
    "total=sum(z)\n",
    "mean=total/len(z)\n",
    "\n",
    "var=[(x-mean)**2 for x in x]\n",
    "var_total=sum(var)\n",
    "variance= var_total/len(var)-1\n",
    "\n",
    "print(f\"Mean: {mean}\\nVariance: {variance}\") "
   ]
  },
  {
   "cell_type": "markdown",
   "metadata": {},
   "source": [
    "# Problem Statement 4\n",
    "Let the continuous random variable D denote the diameter of the hole drilled in an\n",
    "aluminum sheet. The target diameter to be achieved is 12.5mm. Random\n",
    "disturbances in the process often result in inaccuracy.\n",
    "Historical data shows that the distribution of D can be modelled by the PDF (d) =\n",
    "20e−20(d−12.5), d ≥ 12.5. If a part with diameter > 12.6 mm needs to be scrapped,\n",
    "what is the proportion of those parts? What is the CDF when the diameter is of 11\n",
    "mm? What is your conclusion regarding the proportion of scraps?"
   ]
  },
  {
   "cell_type": "code",
   "execution_count": 21,
   "metadata": {},
   "outputs": [
    {
     "name": "stdout",
     "output_type": "stream",
     "text": [
      "Prportion :  0.05000000000000027\n"
     ]
    }
   ],
   "source": [
    "import numpy as np\n",
    "import scipy.integrate \n",
    "from numpy import exp\n",
    "f= lambda x:exp((-20*x)+(20*12.5))\n",
    "i = scipy.integrate.quad(f, 12.5, np.inf)\n",
    "print(\"Prportion : \",i[0])"
   ]
  },
  {
   "cell_type": "markdown",
   "metadata": {},
   "source": [
    "The CDF will be zero when the diameter is 11 mm"
   ]
  },
  {
   "cell_type": "markdown",
   "metadata": {},
   "source": [
    "# Problem Statement 5\n",
    "\n",
    "A company manufactures LED bulbs with a faulty rate of 30%. If I randomly select 6\n",
    "chosen LEDs, what is the probability of having 2 faulty LEDs in my sample?\n",
    "Calculate the average value of this process. Also evaluate the standard deviation\n",
    "associated with it."
   ]
  },
  {
   "cell_type": "code",
   "execution_count": 31,
   "metadata": {},
   "outputs": [
    {
     "name": "stdout",
     "output_type": "stream",
     "text": [
      "Probability Of having 2 faulty LEDs is:  0.32413499999999995\n",
      "Average:  1.7999999999999998\n",
      "Standard Deviation:  1.2599999999999998\n"
     ]
    }
   ],
   "source": [
    "from scipy.stats import binom\n",
    "n=6\n",
    "k=2\n",
    "p=0.3\n",
    "print(\"Probability Of having 2 faulty LEDs is: \",binom.pmf(2,n,p) )\n",
    "print(\"Average: \",(n*p))\n",
    "print(\"Standard Deviation: \",(n*p*(1-p)))"
   ]
  },
  {
   "cell_type": "markdown",
   "metadata": {},
   "source": [
    "# Problem Statement 6\n",
    "\n",
    "Gaurav and Barakha are both preparing for entrance exams. Gaurav attempts to\n",
    "solve 8 questions per day with a correction rate of 75%, while Barakha averages\n",
    "around 12 questions per day with a correction rate of 45%. What is the probability\n",
    "that each of them will solve 5 questions correctly? What happens in cases of 4 and 6\n",
    "correct solutions? What do you infer from it? What are the two main governing\n",
    "factors affecting their ability to solve questions correctly? Give a pictorial\n",
    "representation of the same to validate your answer."
   ]
  },
  {
   "cell_type": "code",
   "execution_count": 35,
   "metadata": {},
   "outputs": [
    {
     "name": "stdout",
     "output_type": "stream",
     "text": [
      "Probability of Gaurav to solve 5 questions correctly:  0.20764160156250022\n",
      "Probability of Barkha to solve 5 questions correctly:  0.22249823843265792\n",
      "\n",
      "Probability of Gaurav to solve 4 questions correctly:  0.08651733398437506\n",
      "Probability of Barkha to solve 4 questions correctly:  0.16996393213605795\n",
      "\n",
      "Probability of Gaurav to solve 6 questions correctly:  0.31146240234375017\n",
      "Probability of Barkha to solve 6 questions correctly:  0.21238468214026424\n"
     ]
    }
   ],
   "source": [
    "prob_gaurav=0.75\n",
    "prob_barkha=0.45\n",
    "print(\"Probability of Gaurav to solve 5 questions correctly: \",binom.pmf(5,8,prob_gaurav) )\n",
    "print(\"Probability of Barkha to solve 5 questions correctly: \",binom.pmf(5,12,prob_barkha) )\n",
    "print(\"\\nProbability of Gaurav to solve 4 questions correctly: \",binom.pmf(4,8,prob_gaurav) )\n",
    "print(\"Probability of Barkha to solve 4 questions correctly: \",binom.pmf(4,12,prob_barkha) )\n",
    "print(\"\\nProbability of Gaurav to solve 6 questions correctly: \",binom.pmf(6,8,prob_gaurav) )\n",
    "print(\"Probability of Barkha to solve 6 questions correctly: \",binom.pmf(6,12,prob_barkha) )"
   ]
  },
  {
   "cell_type": "code",
   "execution_count": 132,
   "metadata": {},
   "outputs": [
    {
     "data": {
      "text/plain": [
       "<matplotlib.collections.LineCollection at 0x1a1b578610>"
      ]
     },
     "execution_count": 132,
     "metadata": {},
     "output_type": "execute_result"
    },
    {
     "data": {
      "image/png": "[encoded data removed]",
      "text/plain": [
       "<Figure size 432x288 with 1 Axes>"
      ]
     },
     "metadata": {
      "needs_background": "light"
     },
     "output_type": "display_data"
    }
   ],
   "source": [
    "n=8\n",
    "p=prob_gaurav\n",
    "fig, ax = plt.subplots(1, 1)\n",
    "x = np.arange(binom.ppf(0.01, n, p),\n",
    "             binom.ppf(0.99, n, p))\n",
    "ax.plot(x, binom.pmf(x, n, p), 'bo', ms=8, label='binom pmf')\n",
    "ax.vlines(x, 0, binom.pmf(x, n, p), colors='b', lw=5, alpha=0.5)"
   ]
  },
  {
   "cell_type": "code",
   "execution_count": 133,
   "metadata": {},
   "outputs": [
    {
     "data": {
      "text/plain": [
       "<matplotlib.collections.LineCollection at 0x1a1b8cc090>"
      ]
     },
     "execution_count": 133,
     "metadata": {},
     "output_type": "execute_result"
    },
    {
     "data": {
      "image/png": "[encoded data removed]",
      "text/plain": [
       "<Figure size 432x288 with 1 Axes>"
      ]
     },
     "metadata": {
      "needs_background": "light"
     },
     "output_type": "display_data"
    }
   ],
   "source": [
    "n=12\n",
    "p=prob_barkha\n",
    "fig, ax = plt.subplots(1, 1)\n",
    "x = np.arange(binom.ppf(0.01, n, p),\n",
    "             binom.ppf(0.99, n, p))\n",
    "ax.plot(x, binom.pmf(x, n, p), 'bo', ms=8, label='binom pmf')\n",
    "ax.vlines(x, 0, binom.pmf(x, n, p), colors='b', lw=5, alpha=0.5)"
   ]
  },
  {
   "cell_type": "markdown",
   "metadata": {},
   "source": [
    "# Problem Statement 7\n",
    "\n",
    "Customers arrive at a rate of 72 per hour to my shop. What is the probability of k\n",
    "customers arriving in 4 minutes? a) 5 customers, b) not more than 3 customers, c)\n",
    "more than 3 customers. Give a pictorial representation of the same to validate your\n",
    "answer."
   ]
  },
  {
   "cell_type": "code",
   "execution_count": 97,
   "metadata": {},
   "outputs": [
    {
     "name": "stdout",
     "output_type": "stream",
     "text": [
      "Probability Of 5 Customers arriving in 4 minutes:  0.17474768364388296\n",
      "\n",
      "Probability Of not more than 3 Customers arriving in 4 minutes:  0.29422991649656405\n",
      "\n",
      "Probability Of  more than 3 Customers arriving in 4 minutes:  0.705770083503436\n"
     ]
    }
   ],
   "source": [
    "from scipy.stats import poisson\n",
    "print(\"Probability Of 5 Customers arriving in 4 minutes: \",poisson.pmf(5, 72*4/60,loc=0))\n",
    "print(\"\\nProbability Of not more than 3 Customers arriving in 4 minutes: \",sum(poisson.pmf([0,1,2,3], (72*4)/60,loc=0)))\n",
    "print(\"\\nProbability Of  more than 3 Customers arriving in 4 minutes: \",(1-sum(poisson.pmf([0,1,2,3], (72*4)/60,loc=0))))"
   ]
  },
  {
   "cell_type": "code",
   "execution_count": 128,
   "metadata": {},
   "outputs": [
    {
     "data": {
      "text/plain": [
       "<matplotlib.collections.LineCollection at 0x1a1b427b50>"
      ]
     },
     "execution_count": 128,
     "metadata": {},
     "output_type": "execute_result"
    },
    {
     "data": {
      "image/png": "[encoded data removed]",
      "text/plain": [
       "<Figure size 432x288 with 1 Axes>"
      ]
     },
     "metadata": {
      "needs_background": "light"
     },
     "output_type": "display_data"
    }
   ],
   "source": [
    "fig, ax = plt.subplots(1, 1)\n",
    "mu=(72*4)/60\n",
    "x = np.arange(poisson.ppf(0.01, mu),\n",
    "               poisson.ppf(0.99, mu))\n",
    "ax.plot(x, poisson.pmf(x, mu), 'bo', ms=8, label='poisson pmf')\n",
    "ax.vlines(x, 0, poisson.pmf(x, mu), colors='r', lw=2, alpha=0.3)\n",
    "\n"
   ]
  },
  {
   "cell_type": "markdown",
   "metadata": {},
   "source": [
    "# Problem Statement 8\n",
    "\n",
    "I work as a data analyst in Aeon Learning Pvt. Ltd. After analyzing data, I make\n",
    "reports, where I have the efficiency of entering 77 words per minute with 6 errors per\n",
    "hour. What is the probability that I will commit 2 errors in a 455-word financial report?\n",
    "What happens when the no. of words increases/decreases (in case of 1000 words,\n",
    "255 words)?\n",
    "How is the λ affected?\n",
    "How does it influence the PMF?\n",
    "Give a pictorial representation of the same to validate your answer."
   ]
  },
  {
   "cell_type": "code",
   "execution_count": 71,
   "metadata": {},
   "outputs": [
    {
     "name": "stdout",
     "output_type": "stream",
     "text": [
      "Probability Of commit 2 error in 455- word financial report:  0.09669170768220131\n",
      "\n",
      "Probability Of commit 2 error in 1000- word financial report:  0.23030185809756304\n",
      "\n",
      "Probability Of commit 2 error in 1000- word financial report:  0.03931632823695859\n",
      "\n",
      "Lambda for 455 page:  0.5909090909090909\n",
      "Lambda for 1000 page:  1.2987012987012987\n",
      "Lambda for 255 page:  0.33116883116883117\n"
     ]
    }
   ],
   "source": [
    "p=6/4620\n",
    "print(\"Probability Of commit 2 error in 455- word financial report: \",binom.pmf(2,455,p))\n",
    "print(\"\\nProbability Of commit 2 error in 1000- word financial report: \",binom.pmf(2,1000,p))\n",
    "print(\"\\nProbability Of commit 2 error in 1000- word financial report: \",binom.pmf(2,255,p))\n",
    "print(\"\\nLambda for 455 page: \",(455*p))\n",
    "print(\"Lambda for 1000 page: \",(1000*p))\n",
    "print(\"Lambda for 255 page: \",(255*p))"
   ]
  },
  {
   "cell_type": "markdown",
   "metadata": {},
   "source": [
    "When n becomes very large it can be solved by poisson distribution with parameter Lambda"
   ]
  },
  {
   "cell_type": "markdown",
   "metadata": {},
   "source": [
    "# Problem Statement 9 \n",
    "\n",
    "Let the continuous random variable D denote the diameter of the hole drilled in an\n",
    "aluminum sheet. The target diameter to be achieved is 12.5mm. Random\n",
    "disturbances in the process often result in inaccuracy.\n",
    "Historical data shows that the distribution of D can be modelled by the PDF, f(d) =\n",
    "20e−20(d−12.5), d ≥ 12.5. If a part with diameter > 12.6 mm needs to be scrapped,\n",
    "what is the proportion of those parts? What is the CDF when the diameter is of 11\n",
    "mm?\n",
    "What is the conclusion of this experiment?"
   ]
  },
  {
   "cell_type": "code",
   "execution_count": 72,
   "metadata": {},
   "outputs": [
    {
     "name": "stdout",
     "output_type": "stream",
     "text": [
      "Prportion :  0.05000000000000027\n"
     ]
    }
   ],
   "source": [
    "import numpy as np\n",
    "import scipy.integrate \n",
    "from numpy import exp\n",
    "f= lambda x:exp((-20*x)+(20*12.5))\n",
    "i = scipy.integrate.quad(f, 12.5, np.inf)\n",
    "print(\"Prportion : \",i[0])"
   ]
  },
  {
   "cell_type": "markdown",
   "metadata": {},
   "source": [
    "CDF will be zero when the diameter is 11 mm"
   ]
  },
  {
   "cell_type": "markdown",
   "metadata": {},
   "source": [
    "# Problem Statement 10\n",
    "\n",
    "Please compute the following:\n",
    "a) P(Z > 1.26), . P(Z < −0.86), P(Z > −1.37), P(−1.25 < Z < 0.37), . P(Z ≤ −4.6)\n",
    "b) Find the value z such that P(Z > z) = 0.05\n",
    "c) Find the value of z such that P(−z < Z < z) = 0.99"
   ]
  },
  {
   "cell_type": "code",
   "execution_count": 85,
   "metadata": {},
   "outputs": [
    {
     "name": "stdout",
     "output_type": "stream",
     "text": [
      "P(Z>1.26) = 0.10383468112130045\n",
      "P(Z > −1.37) = 0.914656549178033\n",
      "P(−1.25 < Z < 0.37) = 0.5386589811336914\n",
      "P(Z ≤ −4.6) = 2.1124547025028537e-06\n"
     ]
    }
   ],
   "source": [
    "import scipy.stats as st\n",
    "print(f\"P(Z>1.26) = {1-st.norm.cdf(1.26)}\\nP(Z > −1.37) = {1-st.norm.cdf(-1.37)}\\nP(−1.25 < Z < 0.37) = \\\n",
    "{st.norm.cdf(0.37)-st.norm.cdf(-1.25)}\\nP(Z ≤ −4.6) = {st.norm.cdf(-4.6)}\")"
   ]
  },
  {
   "cell_type": "markdown",
   "metadata": {},
   "source": [
    "# Problem Statement 11\n",
    "\n",
    "The current flow in a copper wire follow a normal distribution with a mean of 10 mA\n",
    "and a variance of 4 (mA)2.\n",
    "What is the probability that a current measurement will exceed 13 mA? What is the\n",
    "probability that a current measurement is between 9 and 11mA? Determine the\n",
    "current measurement which has a probability of 0.98."
   ]
  },
  {
   "cell_type": "code",
   "execution_count": 90,
   "metadata": {},
   "outputs": [
    {
     "name": "stdout",
     "output_type": "stream",
     "text": [
      "Probability that a current measurement will exceed 13 mA: 0.22662735237686826\n",
      "\n",
      "Probability that a current measurement is between 9 and 11mA: 0.1974126513658474\n",
      "\n",
      "Current measurement which has a probability of 0.98 : 18.214995642527292 mAmp\n"
     ]
    }
   ],
   "source": [
    "X= 13\n",
    "mean=10\n",
    "sd=4\n",
    "Z=(13-mean)/4\n",
    "print(f\"Probability that a current measurement will exceed 13 mA: {1-st.norm.cdf(Z)}\")\n",
    "\n",
    "print(f\"\\nProbability that a current measurement is between 9 and 11mA: {st.norm.cdf((11-mean)/4)-st.norm.cdf((9-mean)/4)}\")\n",
    "z=st.norm.ppf(.98)\n",
    "print(f\"\\nCurrent measurement which has a probability of 0.98 : {(sd*z)+mean} mAmp\")"
   ]
  },
  {
   "cell_type": "markdown",
   "metadata": {},
   "source": [
    "# Problem Statement 12\n",
    "\n",
    "The shaft in a piston has its diameter normally distributed with a mean of 0.2508 inch and a standard deviation of 0.0005 inch. The specifications of the shaft are 0.2500 ∓ 0.0015 inch. What proportion of shafts are in sync with the specifications? If the process is centered so that the mean is equal to the target value of 0.2500, what proportion of shafts conform to the new specifications? What is your conclusion from this experiment?\n"
   ]
  },
  {
   "cell_type": "code",
   "execution_count": 96,
   "metadata": {},
   "outputs": [
    {
     "name": "stdout",
     "output_type": "stream",
     "text": [
      "Proportion of shafts are in sync with the specifications: 0.91924122831152\n",
      "\n",
      "If the process is centered then the proportion of shafts are in sync with the new specifications: 0.9973002039367398\n"
     ]
    }
   ],
   "source": [
    "mean= 0.2508\n",
    "sd=0.0005\n",
    "\n",
    "Z2=(0.2515-mean)/0.0005\n",
    "Z1 =(0.2485-mean)/0.0005\n",
    "\n",
    "print(f\"Proportion of shafts are in sync with the specifications: {st.norm.cdf(Z2)-st.norm.cdf(Z1)}\")\n",
    "\n",
    "\n",
    "mean_new=0.25\n",
    "Z2_new=(0.2515-mean_new)/0.0005\n",
    "Z1_new =(0.2485-mean_new)/0.0005\n",
    "print(f\"\\nIf the process is centered then the proportion of shafts are in sync with the new specifications: {st.norm.cdf(Z2_new)-st.norm.cdf(Z1_new)}\")"
   ]
  }
 ],
 "metadata": {
  "kernelspec": {
   "display_name": "Python 3",
   "language": "python",
   "name": "python3"
  },
  "language_info": {
   "codemirror_mode": {
    "name": "ipython",
    "version": 3
   },
   "file_extension": ".py",
   "mimetype": "text/x-python",
   "name": "python",
   "nbconvert_exporter": "python",
   "pygments_lexer": "ipython3",
   "version": "3.7.4"
  }
 },
 "nbformat": 4,
 "nbformat_minor": 2
}
