{
 "cells": [
  {
   "cell_type": "markdown",
   "metadata": {},
   "source": [
    "# Task 1.1\n",
    "\n",
    "Write a Python Program to implement your own myreduce() function which works exactly\n",
    "like Python's built-in function reduce()"
   ]
  },
  {
   "cell_type": "code",
   "execution_count": 1,
   "metadata": {},
   "outputs": [
    {
     "name": "stdout",
     "output_type": "stream",
     "text": [
      "Enter numbers with comma separated: 2,3,4,5,6\n",
      "Multiply of the elements given in the list: 720\n",
      "Summation of the elements given in the list: 20\n"
     ]
    }
   ],
   "source": [
    "# custom myreduce fucntion\n",
    "def myreduce(function,lst):\n",
    "    res=lst[0]\n",
    "    for i in range(1,len(lst)):\n",
    "        res=function(res,lst[i])\n",
    "    return res\n",
    "\n",
    "\n",
    "# example function that can be taken as input function\n",
    "def multiply(x,y):\n",
    "    return x*y\n",
    "def summation(x,y):\n",
    "    return x+y\n",
    "\n",
    "\n",
    "#Taking input as integer in a list\n",
    "lst = [int(x) for x in input(\"Enter numbers with comma separated: \").split(',')]\n",
    "\n",
    "\n",
    "#calling myreduce method and store them in variables\n",
    "multiply= myreduce(multiply,lst)\n",
    "total= myreduce(summation,lst)\n",
    "\n",
    "\n",
    "# Print both the function with custom function myreduce\n",
    "print(\"Multiply of the elements given in the list: {}\".format(multiply))\n",
    "print(\"Summation of the elements given in the list: {}\".format(total))"
   ]
  },
  {
   "cell_type": "markdown",
   "metadata": {},
   "source": [
    "# Task 1.2\n",
    "\n",
    "Write a Python program to implement your own myfilter() function which works exactly like Python's built-in function filter()"
   ]
  },
  {
   "cell_type": "code",
   "execution_count": 2,
   "metadata": {},
   "outputs": [
    {
     "name": "stdout",
     "output_type": "stream",
     "text": [
      "Enter numbers with comma separated: 10,11,5,23,24\n",
      "Numbers that are greater than the average: 23,24\n"
     ]
    }
   ],
   "source": [
    "#Taking input as integer in a list\n",
    "lst = [int(x) for x in input(\"Enter numbers with comma separated: \").split(',')]\n",
    "def myfilter(function, lst):\n",
    "    result = []\n",
    "    for i in range(0,len(lst)):\n",
    "        if function(lst[i]):\n",
    "            result.append(lst[i])\n",
    "    return result\n",
    "\n",
    "\n",
    "#example function \n",
    "# This function will calculate the Average of the given list and check which values are greater than average in that list\n",
    "def greater_than_avg(x):\n",
    "    import statistics\n",
    "    \n",
    "    avg=statistics.mean(lst)\n",
    "    \n",
    "    if(x>avg):\n",
    "        return True\n",
    "    else:\n",
    "        return False\n",
    "\n",
    "    \n",
    "#Calling my_filter function and store it in a variable\n",
    "output=myfilter(greater_than_avg,lst)\n",
    "\n",
    "\n",
    "#print statement WITHOUT PRINTING VALUES IN A LIST\n",
    "print(\"Numbers that are greater than the average: \" ,end='')\n",
    "for out in range(len(output)):\n",
    "    if out!=len(output)-1:\n",
    "        print(output[out],end=',')\n",
    "    else:\n",
    "        print(output[out])\n"
   ]
  },
  {
   "cell_type": "markdown",
   "metadata": {},
   "source": [
    "# Task 2\n",
    "\n",
    "Implement List comprehensions to produce the following lists.\n",
    "Write List comprehensions to produce the following Lists"
   ]
  },
  {
   "cell_type": "code",
   "execution_count": 4,
   "metadata": {},
   "outputs": [
    {
     "name": "stdout",
     "output_type": "stream",
     "text": [
      "['x', 'xx', 'xxx', 'xxxx', 'y', 'yy', 'yyy', 'yyyy', 'z', 'zz', 'zzz', 'zzzz']\n",
      "['x', 'y', 'z', 'xx', 'yy', 'zz', 'xxx', 'yyy', 'zzz', 'xxxx', 'yyyy', 'zzzz']\n",
      "[[2], [3], [4], [3], [4], [5], [4], [5], [6]]\n",
      "[[2, 3, 4, 5], [3, 4, 5, 6], [4, 5, 6, 7], [5, 6, 7, 8]]\n",
      "[(1, 1), (2, 1), (3, 1), (1, 2), (2, 2), (3, 2), (1, 3), (2, 3), (3, 3)]\n"
     ]
    }
   ],
   "source": [
    "input_1=['x','y','z']\n",
    "output_1=[i*time for i in input_1 for time in range(1,5)]\n",
    "\n",
    "input_2 = ['x','y','z']\n",
    "output_2 = [ i*time for time in range(1,5) for i in input_2  ]\n",
    "\n",
    "input_3 = [2,3,4]\n",
    "output_3 = [ [i+time] for i in input_3 for time in range(0,3)]\n",
    "\n",
    "\n",
    "input_4 = [2,3,4,5]\n",
    "output_4 = [ [i+time for i in input_4] for time in range(0,4)  ]\n",
    "\n",
    "\n",
    "input_5=[1,2,3]\n",
    "output_5 = [ (x,y) for y in input_5 for x in input_5]\n",
    "\n",
    "\n",
    "print(output_1)\n",
    "print(output_2)\n",
    "print(output_3)\n",
    "print(output_4)\n",
    "print(output_5)"
   ]
  },
  {
   "cell_type": "code",
   "execution_count": null,
   "metadata": {},
   "outputs": [],
   "source": []
  }
 ],
 "metadata": {
  "kernelspec": {
   "display_name": "Python 3",
   "language": "python",
   "name": "python3"
  },
  "language_info": {
   "codemirror_mode": {
    "name": "ipython",
    "version": 3
   },
   "file_extension": ".py",
   "mimetype": "text/x-python",
   "name": "python",
   "nbconvert_exporter": "python",
   "pygments_lexer": "ipython3",
   "version": "3.7.4"
  }
 },
 "nbformat": 4,
 "nbformat_minor": 2
}
