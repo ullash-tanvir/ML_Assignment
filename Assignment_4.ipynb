{
 "cells": [
  {
   "cell_type": "markdown",
   "metadata": {},
   "source": [
    "# Task 1.1\n",
    "\n",
    "Write a Python Program(with class concepts) to find the area of the triangle using the below\n",
    "formula.\n",
    "area = (s*(s-a)*(s-b)*(s-c)) ** 0.5"
   ]
  },
  {
   "cell_type": "code",
   "execution_count": 1,
   "metadata": {},
   "outputs": [
    {
     "name": "stdout",
     "output_type": "stream",
     "text": [
      "Side 1 :  3\n",
      "Side 2 :  3\n",
      "Side 3 :  3\n",
      "The area of the triangle is 3.90\n"
     ]
    }
   ],
   "source": [
    "class Triangle:\n",
    "        \n",
    "    def inputSides(self):\n",
    "        self.side_1 = float(input(\"Side 1 :  \"))  \n",
    "        self.side_2 = float(input(\"Side 2 :  \"))\n",
    "        self.side_3 = float(input(\"Side 3 :  \"))\n",
    "        \n",
    "        \n",
    "        \n",
    "class Area(Triangle):\n",
    " \n",
    "    def area(self):\n",
    "    \n",
    "        side_1,side_2,side_3=self.side_1,self.side_2,self.side_3\n",
    "        s=(side_1+side_2+side_3)/2\n",
    "        area = (s*(s-side_1)*(s-side_2)*(s-side_3)) ** 0.5\n",
    "        print('The area of the triangle is %0.2f' %area)\n",
    "\n",
    "t1=Area()\n",
    "t1.inputSides()\n",
    "t1.area()"
   ]
  },
  {
   "cell_type": "markdown",
   "metadata": {},
   "source": [
    "# Task 1.2 \n",
    "\n",
    "Write a function filter_long_words() that takes a list of words and an integer n and returns the list of words that are longer than n."
   ]
  },
  {
   "cell_type": "markdown",
   "metadata": {},
   "source": [
    "##### With LIST COMPREHENSION"
   ]
  },
  {
   "cell_type": "code",
   "execution_count": 3,
   "metadata": {},
   "outputs": [
    {
     "name": "stdout",
     "output_type": "stream",
     "text": [
      "Enter numbers with comma separated: a,ab,abc,abccac,aabbccdd\n",
      "Enter number : 3\n",
      "Print Words that are longer than 3 : abccac,aabbccdd\n"
     ]
    }
   ],
   "source": [
    "#filter_long_words() function\n",
    "def filter_long_words(lst,number):\n",
    "    return [word for word in lst if len(word) > number]\n",
    "\n",
    "#Taking input words as a list\n",
    "lst = [x for x in input(\"Enter numbers with comma separated: \").split(',')]\n",
    "\n",
    "#Taking integer number\n",
    "n=int(input(\"Enter number : \"))\n",
    "\n",
    "#calling method and store in a varibale\n",
    "output=filter_long_words(lst,n)\n",
    "\n",
    "\n",
    "#print statement WITHOUT PRINTING VALUES IN A LIST\n",
    "\n",
    "print(\"Print Words that are longer than\",n,\": \" ,end='')\n",
    "for out in range(len(output)):\n",
    "    if out!=len(output)-1:\n",
    "        print(output[out],end=',')\n",
    "    else:\n",
    "        print(output[out])"
   ]
  },
  {
   "cell_type": "markdown",
   "metadata": {},
   "source": [
    "##### WITHOUT LIST COMPREHENSION"
   ]
  },
  {
   "cell_type": "code",
   "execution_count": 5,
   "metadata": {},
   "outputs": [
    {
     "name": "stdout",
     "output_type": "stream",
     "text": [
      "Enter numbers with comma separated: a,ab,abc,abccac,aabbccdd\n",
      "Enter number : 3\n",
      "Print Words that are longer than 3 : abccac,aabbccdd\n"
     ]
    }
   ],
   "source": [
    "#filter_long_words() function\n",
    "def filter_long_words(lst,number):\n",
    "    a=[]\n",
    "    for x in lst:\n",
    "        if(len(x)>number):\n",
    "            a.append(x)\n",
    "    return a\n",
    "\n",
    "\n",
    "#Taking input words as a list\n",
    "lst = [x for x in input(\"Enter numbers with comma separated: \").split(',')]\n",
    "\n",
    "#Taking integer number\n",
    "n=int(input(\"Enter number : \"))\n",
    "\n",
    "#calling method and store in a varibale\n",
    "output=filter_long_words(lst,n)\n",
    "\n",
    "\n",
    "#print statement WITHOUT PRINTING VALUES IN A LIST\n",
    "\n",
    "print(\"Print Words that are longer than\",n,\": \" ,end='')\n",
    "for out in range(len(output)):\n",
    "    if out!=len(output)-1:\n",
    "        print(output[out],end=',')\n",
    "    else:\n",
    "        print(output[out])"
   ]
  },
  {
   "cell_type": "markdown",
   "metadata": {},
   "source": [
    "# Task 2.1 \n",
    "\n",
    "Write a Python program using function concept that maps list of words into a list of integers representing the lengths of the corresponding words.\n",
    "Hint: If a list [ ab,cde,erty] is passed on to the python function output should come as [2,3,4]\n",
    "Here 2,3 and 4 are the lengths of the words in the list."
   ]
  },
  {
   "cell_type": "code",
   "execution_count": 4,
   "metadata": {},
   "outputs": [
    {
     "name": "stdout",
     "output_type": "stream",
     "text": [
      "Enter numbers with comma separated: Dhaka,Delhi,Bangladesh,India,Usa,A,B,AA,BB,Abcde\n",
      "Output:  [5, 5, 10, 5, 3, 1, 1, 2, 2, 5]\n"
     ]
    }
   ],
   "source": [
    "lst=[x for x in input(\"Enter numbers with comma separated: \").split(',')]\n",
    "func= list(map(lambda x: len(x),lst))\n",
    "print('Output: ',func)"
   ]
  },
  {
   "cell_type": "markdown",
   "metadata": {},
   "source": [
    "# Task 2.2 \n",
    "Write a Python function which takes a character (i.e. a string of length 1) and returns True if it is a vowel, False otherwise."
   ]
  },
  {
   "cell_type": "code",
   "execution_count": 6,
   "metadata": {},
   "outputs": [
    {
     "name": "stdout",
     "output_type": "stream",
     "text": [
      "Enter a character: a\n"
     ]
    },
    {
     "data": {
      "text/plain": [
       "True"
      ]
     },
     "execution_count": 6,
     "metadata": {},
     "output_type": "execute_result"
    }
   ],
   "source": [
    "def isvowel(char):\n",
    "    vowels=['a','e','i','o','u']\n",
    "    if char not in vowels:\n",
    "        return False\n",
    "    return True\n",
    "\n",
    "#input Character in lower letter\n",
    "char=input(\"Enter a character: \")[0].lower()\n",
    "\n",
    "#calling isvowel() Function\n",
    "isvowel(char)"
   ]
  },
  {
   "cell_type": "code",
   "execution_count": null,
   "metadata": {},
   "outputs": [],
   "source": []
  }
 ],
 "metadata": {
  "kernelspec": {
   "display_name": "Python 3",
   "language": "python",
   "name": "python3"
  },
  "language_info": {
   "codemirror_mode": {
    "name": "ipython",
    "version": 3
   },
   "file_extension": ".py",
   "mimetype": "text/x-python",
   "name": "python",
   "nbconvert_exporter": "python",
   "pygments_lexer": "ipython3",
   "version": "3.7.4"
  }
 },
 "nbformat": 4,
 "nbformat_minor": 2
}
